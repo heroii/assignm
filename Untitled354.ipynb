{
 "cells": [
  {
   "cell_type": "code",
   "execution_count": 1,
   "id": "196764fa-6379-4d98-944f-d3317b1c790c",
   "metadata": {},
   "outputs": [],
   "source": [
    "#q1\n",
    "# probability density function is the probablity distribution function for continuous random variable, these pdf depends on few parameters\n",
    "# for ex normal distribution depend upon mean and std deviation"
   ]
  },
  {
   "cell_type": "code",
   "execution_count": 2,
   "id": "e214dfe4-fe6e-48c0-be82-e2e335dd3db5",
   "metadata": {},
   "outputs": [],
   "source": [
    "#q2\n",
    "#There are two types of pdf \n",
    "#1) probability density function is the probablity distribution function for continuous random variable,these pdf depends on few parameters\n",
    "# for ex normal distribution depend upon mean and std deviation\n",
    "#2) probablity mass function is the probablity distribution function for discrete random variable,for example the binomial distribution.\n"
   ]
  },
  {
   "cell_type": "code",
   "execution_count": 12,
   "id": "2f4f693f-6a87-44ac-9c65-9e75168b6b14",
   "metadata": {},
   "outputs": [
    {
     "data": {
      "text/plain": [
       "0.9768337796329417"
      ]
     },
     "execution_count": 12,
     "metadata": {},
     "output_type": "execute_result"
    }
   ],
   "source": [
    "import math as m\n",
    "def is_normal(x,y,z):\n",
    "    return (2.78/y*(m.sqrt(2*3.148)))**-((z-y)**2/(2*y)**2)\n",
    "\n",
    "is_normal(12,3,4)"
   ]
  },
  {
   "cell_type": "code",
   "execution_count": 13,
   "id": "1282ce23-9b5c-4dfa-bdb6-22de43dc8d7f",
   "metadata": {},
   "outputs": [],
   "source": [
    "#Binomial  distribution is the probability distribution function for the discrte random variable, hence it is the probablity mass function \n",
    "# the graph of pmf is not continuous\n",
    "# it is used to capture the probablity of the a event with binary outcome with given number of times\n",
    "#ex it is used in spam classfication\n",
    "#it cxan also be in predictin the possiblity of head and tails"
   ]
  },
  {
   "cell_type": "code",
   "execution_count": 16,
   "id": "72a4a6db-0486-4d70-a220-03c311e57994",
   "metadata": {},
   "outputs": [],
   "source": [
    "import numpy as np\n",
    "import matplotlib.pyplot as plt"
   ]
  },
  {
   "cell_type": "code",
   "execution_count": 17,
   "id": "206ec0ae-7bce-4276-97ed-827c8eeb1b08",
   "metadata": {},
   "outputs": [],
   "source": [
    "ch=np.random.binomial(n=1000,p=0.4,size=1000)"
   ]
  },
  {
   "cell_type": "code",
   "execution_count": 19,
   "id": "6c3c29c8-38a5-405a-8b8c-5836a66e9670",
   "metadata": {},
   "outputs": [
    {
     "data": {
      "text/plain": [
       "(array([  5.,  28.,  80., 183., 228., 243., 166.,  51.,  14.,   2.]),\n",
       " array([350. , 360.3, 370.6, 380.9, 391.2, 401.5, 411.8, 422.1, 432.4,\n",
       "        442.7, 453. ]),\n",
       " <BarContainer object of 10 artists>)"
      ]
     },
     "execution_count": 19,
     "metadata": {},
     "output_type": "execute_result"
    },
    {
     "data": {
      "image/png": "[encoded data removed]",
      "text/plain": [
       "<Figure size 640x480 with 1 Axes>"
      ]
     },
     "metadata": {},
     "output_type": "display_data"
    }
   ],
   "source": [
    "plt.hist(ch)"
   ]
  },
  {
   "cell_type": "code",
   "execution_count": 21,
   "id": "a405802d-52df-4dcc-a8ac-868e388dd06f",
   "metadata": {},
   "outputs": [],
   "source": [
    "df=np.random.poisson(lam=2,size=10)"
   ]
  },
  {
   "cell_type": "code",
   "execution_count": 23,
   "id": "04a05b0f-3552-48cc-89e2-48afe6db7c09",
   "metadata": {},
   "outputs": [
    {
     "data": {
      "text/plain": [
       "(array([1., 0., 2., 0., 0., 1., 0., 5., 0., 1.]),\n",
       " array([0. , 0.4, 0.8, 1.2, 1.6, 2. , 2.4, 2.8, 3.2, 3.6, 4. ]),\n",
       " <BarContainer object of 10 artists>)"
      ]
     },
     "execution_count": 23,
     "metadata": {},
     "output_type": "execute_result"
    },
    {
     "data": {
      "image/png": "[encoded data removed]",
      "text/plain": [
       "<Figure size 640x480 with 1 Axes>"
      ]
     },
     "metadata": {},
     "output_type": "display_data"
    }
   ],
   "source": [
    "plt.hist(df)"
   ]
  },
  {
   "cell_type": "code",
   "execution_count": 24,
   "id": "35616f81-8e75-4cb1-b04d-5bc6a18d58f3",
   "metadata": {},
   "outputs": [],
   "source": [
    "#\n",
    "#Binomial  distribution is the probability distribution function for the discrte random variable, hence it is the probablity mass function \n",
    "# the graph of pmf is not continuous\n",
    "# it is used to capture the probablity of the a event with binary outcome with given number of times\n",
    "#ex it is used in spam classfication\n",
    "#it cxan also be in predictin the possiblity of head and tails\n",
    "\n",
    "\n",
    "\n",
    "# in poisson the ocuurence of a event is measured in range of time, it is also a pmf "
   ]
  },
  {
   "cell_type": "code",
   "execution_count": 25,
   "id": "6345eeec-0405-4577-8382-4c234a47129b",
   "metadata": {},
   "outputs": [],
   "source": [
    "#8\n",
    "df=np.random.poisson(lam=5,size=1000)"
   ]
  },
  {
   "cell_type": "code",
   "execution_count": 26,
   "id": "f0b76d7d-b5e2-450f-90b1-127af518a449",
   "metadata": {},
   "outputs": [
    {
     "data": {
      "text/plain": [
       "5.022"
      ]
     },
     "execution_count": 26,
     "metadata": {},
     "output_type": "execute_result"
    }
   ],
   "source": [
    "df.mean()"
   ]
  },
  {
   "cell_type": "code",
   "execution_count": 27,
   "id": "175da7e6-b646-4b12-bbd1-a84d439f3246",
   "metadata": {},
   "outputs": [
    {
     "data": {
      "text/plain": [
       "4.951516"
      ]
     },
     "execution_count": 27,
     "metadata": {},
     "output_type": "execute_result"
    }
   ],
   "source": [
    "df.var()"
   ]
  },
  {
   "cell_type": "code",
   "execution_count": 28,
   "id": "f38fa516-77aa-4380-a934-51c8594fd562",
   "metadata": {},
   "outputs": [],
   "source": [
    "#9mean and variance are the same in poisson and binomial\n"
   ]
  },
  {
   "cell_type": "code",
   "execution_count": null,
   "id": "f8a1d59a-88af-435c-8903-aea6f9140a5a",
   "metadata": {},
   "outputs": [],
   "source": []
  }
 ],
 "metadata": {
  "kernelspec": {
   "display_name": "Python 3 (ipykernel)",
   "language": "python",
   "name": "python3"
  },
  "language_info": {
   "codemirror_mode": {
    "name": "ipython",
    "version": 3
   },
   "file_extension": ".py",
   "mimetype": "text/x-python",
   "name": "python",
   "nbconvert_exporter": "python",
   "pygments_lexer": "ipython3",
   "version": "3.10.8"
  }
 },
 "nbformat": 4,
 "nbformat_minor": 5
}
